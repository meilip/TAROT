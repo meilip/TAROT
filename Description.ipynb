{
 "cells": [
  {
   "cell_type": "markdown",
   "id": "64f79ec3",
   "metadata": {},
   "source": [
    "# Synchronisation automatique des données TAROT issues d'alertes GRB"
   ]
  },
  {
   "cell_type": "markdown",
   "id": "f14b7a3d",
   "metadata": {},
   "source": [
    "Le but de ces programmes est de synchroniser le owncloud GRANDMA avec les images TAROT alertes Fermi. \n"
   ]
  },
  {
   "cell_type": "markdown",
   "id": "bcbea691",
   "metadata": {},
   "source": [
    "### Prérequis\n"
   ]
  },
  {
   "cell_type": "markdown",
   "id": "8af5a55c",
   "metadata": {},
   "source": [
    "Avoir un compte owncloud GRANDMA"
   ]
  },
  {
   "cell_type": "markdown",
   "id": "52631f8c",
   "metadata": {},
   "source": [
    "### Principe général"
   ]
  },
  {
   "cell_type": "markdown",
   "id": "9d065e5c",
   "metadata": {},
   "source": [
    "Après avoir traité une image, le programme grenouille créera dans un répertoire un fichier texte avec pour nom le nom de l'image (exemple : IM.fits.gz.txt) qui contiendra le chemin vers l'image (exemple : pif/paf/pouf/IM.fits.gz) : ce fichier texte s'appelera image fantôme. \n",
    "\n",
    "Un premier programme sur la machine tarot8 checkera à intervalle régulier s'il y a des nouvelles images fantômes dans le répertoire. S'il y en a une, elle est copiée dans le répertoire /tmp, puis le texte est lu pour obtenir le chemin vers la véritable image. L'image est ensuite copiée localement dans le dossier /copy sur la machine. A ce stade, il est possible d'effectuer un traitement de l'image (changement de nom, vérification de la calibration...) avant de l'envoyer en sftp dans le répertoire /tarot/.. sur la machine grandma0 à Cador. Enfin, la copie locale et l'image fantôme dans /tmp sont supprimée. \n",
    "\n",
    "Du côté de grandma0, le script de synchronisation de /tarot/.. à owncloud est appelé à intervalle régulier. "
   ]
  },
  {
   "cell_type": "markdown",
   "id": "1bb38072",
   "metadata": {},
   "source": [
    "### Connexion en ssh"
   ]
  },
  {
   "cell_type": "markdown",
   "id": "d7a011de",
   "metadata": {},
   "source": [
    "Pour se connecter, il faut dans un premier temps se connecter en ssh à tarot.net.org."
   ]
  },
  {
   "cell_type": "raw",
   "id": "4ca53760",
   "metadata": {},
   "source": [
    "ssh user@ssh.tarotnet.org"
   ]
  },
  {
   "cell_type": "markdown",
   "id": "d41aba74",
   "metadata": {},
   "source": [
    "Le mot de passe sera alors demandé."
   ]
  },
  {
   "cell_type": "markdown",
   "id": "7341e091",
   "metadata": {},
   "source": [
    "### Sur tarot8"
   ]
  },
  {
   "cell_type": "markdown",
   "id": "890ad13b",
   "metadata": {},
   "source": [
    "Pour se connecter à tarot8 en ssh, il faut lancer la commande :"
   ]
  },
  {
   "cell_type": "raw",
   "id": "14a78383",
   "metadata": {},
   "source": [
    "ssh grandma@192.168.20.70"
   ]
  },
  {
   "cell_type": "markdown",
   "id": "b6c78421",
   "metadata": {},
   "source": [
    "Le mot de passe sera demandé : gw170817"
   ]
  },
  {
   "cell_type": "markdown",
   "id": "e1f29528",
   "metadata": {},
   "source": [
    "Le script suivant a pour chemin : /home/grandma/scripts/fermi.py\n",
    "\n",
    "/mnt/tarot4_data/srv_work_ros_data/images/ghost_images/alert_fermi est le répertoire qui contient les images fatômes.\n",
    "\n",
    "/mnt/tarot4_data/srv_work_ros_data/images/pretraite/im/ est le répertoire qui contient les images véritable. Il faut lui ajouter le chemin relatif AAAA/MM/JJ/nom.fits.gz pour obtenir le chemin absolu vers l'image. "
   ]
  },
  {
   "cell_type": "code",
   "execution_count": null,
   "id": "ec7ae5e2",
   "metadata": {},
   "outputs": [],
   "source": [
    "#!/usr/bin/env python3\n",
    "# coding: utf-8\n",
    "\n",
    "import os\n",
    "import paramiko\n",
    "import shutil\n",
    "\n",
    "def connect(hostname, username, password):\n",
    "        \"\"\"Connects to host with username and password\n",
    "        \n",
    "        :hostname: str\n",
    "            name of the ssh server to connect to; eg: 'ssh.tarotnet.org'\n",
    "        :username: str\n",
    "        :password: str\n",
    "        \n",
    "           \"\"\"\n",
    "        client = paramiko.SSHClient()\n",
    "        client.set_missing_host_key_policy(paramiko.AutoAddPolicy())\n",
    "        client.load_system_host_keys()\n",
    "        client.connect(hostname, username=username, password=password)\n",
    "        return client\n",
    "\n",
    "for file in os.listdir(\"/mnt/tarot4_data/srv_work_ros_data/images/ghost_images/alert_fermi\"): \n",
    "    \n",
    "    if file.startswith('.') == False:\n",
    "        \n",
    "        shutil.copy(\"/mnt/tarot4_data/srv_work_ros_data/images/ghost_images/alert_fermi/\"+file,\"/tmp\")\n",
    "        \n",
    "        name = os.path.splitext(file)[0]\n",
    "        print(\"this is the name of the file:\", name)\n",
    "    \n",
    "        with open(\"/tmp/\"+file, \"r\") as text:\n",
    "            texte = text.readlines()\n",
    "    \n",
    "        relative_path = texte[0]\n",
    "        relative_path = relative_path.strip('\\n')\n",
    "        \n",
    "        absolute_path = \"/mnt/tarot4_data/srv_work_ros_data/images/pretraite/im/\" + relative_path\n",
    "        print('this is the path of the file:', absolute_path)\n",
    "        \n",
    "        destination = \"/home/grandma/copy/\"\n",
    "        shutil.copy(absolute_path,destination)\n",
    "    \n",
    "        client = connect(hostname='192.168.20.70', username='grandma',password='6lhWF\"Pn')\n",
    "        sftp = client.open_sftp()\n",
    "        \n",
    "        sftp.put(\"/home/grandma/copy/\"+name, \"/home/grandma/tarot/alert_fermi/\"+name)\n",
    "        sftp.close()\n",
    "        \n",
    "        os.remove(\"/home/grandma/copy/\"+name)\n",
    "        os.remove(\"/tmp/\"+file)"
   ]
  },
  {
   "cell_type": "markdown",
   "id": "709353d5",
   "metadata": {},
   "source": [
    "Pour que ce code soit appelé à intervalle régulier, il faut installer un crontab sur la machine :"
   ]
  },
  {
   "cell_type": "raw",
   "id": "8c5a2b37",
   "metadata": {},
   "source": [
    "crontab -e "
   ]
  },
  {
   "cell_type": "markdown",
   "id": "c5127bf0",
   "metadata": {},
   "source": [
    "Puis insérer la ligne suivante. Elle permet de faire tourner le code toutes les minutes. "
   ]
  },
  {
   "cell_type": "raw",
   "id": "1d001e87",
   "metadata": {},
   "source": [
    "*/1 * * * * python3 /home/grandma/scripts/fermi.py > /dev/null 2>&1"
   ]
  },
  {
   "cell_type": "markdown",
   "id": "48858886",
   "metadata": {},
   "source": [
    "Pour quitter la cellule, \"ctrl + X\", puis enregistrer avec Y."
   ]
  },
  {
   "cell_type": "markdown",
   "id": "674ca28d",
   "metadata": {},
   "source": [
    "### Sur grandma0"
   ]
  },
  {
   "cell_type": "markdown",
   "id": "36926d76",
   "metadata": {},
   "source": [
    "Dans un nouvel onglet du terminal, il faut dans un premier temps se reconnecter à tarotnet.org. Ensuite, pour se connecter à grandma0, saisir :"
   ]
  },
  {
   "cell_type": "raw",
   "id": "3d0af5a0",
   "metadata": {},
   "source": [
    "ssh grandma@192.168.20.70"
   ]
  },
  {
   "cell_type": "markdown",
   "id": "dfbf2779",
   "metadata": {},
   "source": [
    "Le mot de passe sera demandé : 6lhWH\"Pn"
   ]
  },
  {
   "cell_type": "markdown",
   "id": "c6abc5d5",
   "metadata": {},
   "source": [
    "Le script suivant est de chemin : /home/grandma/scripts/script.sh\n",
    "\n",
    "Il permet de synchroniser le owncloud grandma https://grandma-owncloud.lal.in2p3.fr avec les dossiers inclus dans /home/grandma, grâce à la fonction owncloudcmd incluse dans le client owncloud pour linux.\n",
    "\n",
    "Le paramètre --exlude permet de définir quels dossiers de la machine grandma0 ne doivent pas être synchronisés. Il doit être placé avant le chemin vers le fichier texte exclusion_file qui contient ligne par ligne les répertoires à ne pas synchroniser. Il contient actuellement une seule ligne, \"scripts\", puisqu'on ne veut synchroniser que le répertoire /tarot qui contient les images qu'on a copié précédemment. \n",
    "\n",
    "Le paramètre --unsyncedfolders permet de définir quels dossiers sur owncloud ne doivent pas être synchronisés. Il est placé devant le fichier texte unsynced_folders qui contient ligne par ligne le nom des répertoires ou des fichiers du cloud à ne pas synchroniser. Le fichier texte contient notamment une ligne \"Candidates\", \"Documents\", ...\n",
    "\n",
    "Sans oublier de remplacer \"user\" et \"password\" par celui d'un compte grandma."
   ]
  },
  {
   "cell_type": "code",
   "execution_count": null,
   "id": "d759803f",
   "metadata": {},
   "outputs": [],
   "source": [
    "#!/bin/bash\n",
    "check_PID=$(pgrep owncloudcmd)\n",
    "if [ -z \"$check_PID\" ]\n",
    "then\n",
    "    owncloudcmd -s --exclude /home/grandma/scripts/exclusion_file --unsyncedfolders /home/grandma/scripts/unsynced_folders -u user -p 'password' /home/grandma https://grandma-owncloud.lal.in2p3.fr\n",
    "fi"
   ]
  },
  {
   "cell_type": "markdown",
   "id": "28dc1cba",
   "metadata": {},
   "source": [
    "Enfin, pour que ce code soit appelé à intervalle régulier, il faut installer un crontab sur la machine grandma0:"
   ]
  },
  {
   "cell_type": "raw",
   "id": "a8986afb",
   "metadata": {},
   "source": [
    "crontab -e"
   ]
  },
  {
   "cell_type": "markdown",
   "id": "12e77c96",
   "metadata": {},
   "source": [
    "Puis la ligne suivante : "
   ]
  },
  {
   "cell_type": "raw",
   "id": "02e6d3a2",
   "metadata": {},
   "source": [
    "*/1 * * * * /home/grandma/scripts/script.sh > /dev/null 2>&1"
   ]
  },
  {
   "cell_type": "markdown",
   "id": "2234945a",
   "metadata": {},
   "source": [
    "Puis quitter et enregistrer. "
   ]
  },
  {
   "cell_type": "markdown",
   "id": "b3a5a994",
   "metadata": {},
   "source": [
    "## Voilà"
   ]
  }
 ],
 "metadata": {
  "kernelspec": {
   "display_name": "Python 3 (ipykernel)",
   "language": "python",
   "name": "python3"
  },
  "language_info": {
   "codemirror_mode": {
    "name": "ipython",
    "version": 3
   },
   "file_extension": ".py",
   "mimetype": "text/x-python",
   "name": "python",
   "nbconvert_exporter": "python",
   "pygments_lexer": "ipython3",
   "version": "3.8.13"
  }
 },
 "nbformat": 4,
 "nbformat_minor": 5
}
